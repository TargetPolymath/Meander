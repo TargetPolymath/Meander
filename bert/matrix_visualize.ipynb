{
 "cells": [
  {
   "cell_type": "code",
   "execution_count": 1,
   "metadata": {},
   "outputs": [],
   "source": [
    "%matplotlib widget"
   ]
  },
  {
   "cell_type": "code",
   "execution_count": 2,
   "metadata": {},
   "outputs": [],
   "source": [
    "import json\n",
    "import numpy as np\n",
    "import matplotlib.pyplot as plt"
   ]
  },
  {
   "cell_type": "code",
   "execution_count": 3,
   "metadata": {},
   "outputs": [],
   "source": [
    "data_file = \"output_embeddings.json\""
   ]
  },
  {
   "cell_type": "code",
   "execution_count": 4,
   "metadata": {},
   "outputs": [],
   "source": [
    "with open(data_file) as f:\n",
    "    data = json.load(f)"
   ]
  },
  {
   "cell_type": "code",
   "execution_count": 5,
   "metadata": {},
   "outputs": [
    {
     "name": "stdout",
     "output_type": "stream",
     "text": [
      "14\n"
     ]
    }
   ],
   "source": [
    "num_tokens = len(data['features'])\n",
    "print(num_tokens)"
   ]
  },
  {
   "cell_type": "code",
   "execution_count": 6,
   "metadata": {},
   "outputs": [
    {
     "data": {
      "application/vnd.jupyter.widget-view+json": {
       "model_id": "8b14bce4ad954ff0b159cbcb269fec67",
       "version_major": 2,
       "version_minor": 0
      },
      "text/plain": [
       "Canvas(toolbar=Toolbar(toolitems=[('Home', 'Reset original view', 'home', 'home'), ('Back', 'Back to previous …"
      ]
     },
     "metadata": {},
     "output_type": "display_data"
    }
   ],
   "source": [
    "num_layers = len(data['features'][0]['layers'])\n",
    "sqrt_layers = num_layers ** 0.5\n",
    "columns = int(num_layers // sqrt_layers) + 1\n",
    "rows = int(num_layers // columns)\n",
    "fig, ax_list = plt.subplots(nrows=rows, ncols=columns, sharex=True, sharey=True)\n",
    "ax_list = ax_list.flatten()\n",
    "plt.ion()\n"
   ]
  },
  {
   "cell_type": "code",
   "execution_count": 7,
   "metadata": {},
   "outputs": [
    {
     "name": "stdout",
     "output_type": "stream",
     "text": [
      "12\n"
     ]
    }
   ],
   "source": [
    "\n",
    "\n",
    "tokens = []\n",
    "\n",
    "print(num_layers)\n",
    "conn_matrix = np.zeros(shape=(num_layers, num_tokens, num_tokens))\n",
    "for layer_index in range(num_layers):\n",
    "    \n",
    "    for i, token_dict in enumerate(data['features']):\n",
    "        tokens.append(token_dict['token'])\n",
    "        attention = np.asarray(token_dict['layers'][layer_index]['values'][:num_tokens])\n",
    "        # attention -= np.min(attention)\n",
    "        # attention -= np.mean(attention)\n",
    "    \n",
    "        conn_matrix[layer_index, i, :] += attention\n",
    "        # conn_matrix[:, i] += attention\n",
    "    \n",
    "\n",
    "    ax_list[layer_index].clear()\n",
    "    tick_values = np.arange(len(tokens))\n",
    "    ax_list[layer_index].set_xticks(tick_values)\n",
    "    ax_list[layer_index].set_yticks(tick_values)\n",
    "    ax_list[layer_index].set_xticklabels((tokens))\n",
    "    ax_list[layer_index].set_yticklabels((tokens))\n",
    "\n",
    "    ax_list[layer_index].matshow(conn_matrix[layer_index])\n"
   ]
  },
  {
   "cell_type": "code",
   "execution_count": null,
   "metadata": {},
   "outputs": [],
   "source": []
  }
 ],
 "metadata": {
  "kernelspec": {
   "display_name": "Python 3",
   "language": "python",
   "name": "python3"
  },
  "language_info": {
   "codemirror_mode": {
    "name": "ipython",
    "version": 3
   },
   "file_extension": ".py",
   "mimetype": "text/x-python",
   "name": "python",
   "nbconvert_exporter": "python",
   "pygments_lexer": "ipython3",
   "version": "3.6.12"
  }
 },
 "nbformat": 4,
 "nbformat_minor": 4
}
